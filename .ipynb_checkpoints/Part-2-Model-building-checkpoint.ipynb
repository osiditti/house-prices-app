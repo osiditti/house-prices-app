{
 "cells": [
  {
   "cell_type": "markdown",
   "metadata": {
    "_cell_guid": "02db16fd-8267-414d-9529-ea7991df2042",
    "_uuid": "bfd5ec199ad5ddb5f161c69bb960d56d38d4e440"
   },
   "source": [
    "# Part 2 - Model Building and Parameter Tuning\n",
    "Welcome back! In this notebook, I will show you how I built the XGBoost Regressor model on the Housing Price dataset that we have preprocessed in Part 1.\n",
    "\n",
    "We will build the model in two steps:\n",
    "1. **Feature Selection:** First, we will choose the most important features for our model with XGBoost's built-in `plot_importance()` function. We want the Predicting House Prices web app to be user-friendly, so our goal is to arrive at a final set of 4-6 features to limit the input required from the user.\n",
    "2. **Parameter Tuning:** After we have selected our feature set, we will tune our regressor model's parameters to find its optimal performance. For this, we will use sklearn's `GridSearchCV`.\n",
    "\n",
    "\n",
    "*Credit:  Aarshay Jain's 'Complete Guide to Parameter Tuning in XGBoost' [article](https://www.analyticsvidhya.com/blog/2016/03/complete-guide-parameter-tuning-xgboost-with-codes-python/) and Jason Brownlee's 'Feature Importance and Feature Selection With XGBoost in Python' [article](https://machinelearningmastery.com/feature-importance-and-feature-selection-with-xgboost-in-python/) served as a great inspiration for this notebook.*\n"
   ]
  },
  {
   "cell_type": "markdown",
   "metadata": {
    "_cell_guid": "cd61506e-0e88-43c6-9427-d792f3289121",
    "_uuid": "6dafcf2eeed0e9540ea74242bf554c2d0ced1a5c"
   },
   "source": [
    "Before starting, let's import the necessary libraries and the preprocessed dataset. We  also split the dataset into training and testing datasets."
   ]
  },
  {
   "cell_type": "code",
   "execution_count": 1,
   "metadata": {
    "_cell_guid": "5f8f3e62-b01a-48b3-9f76-e8d093e63cf5",
    "_uuid": "8f9fba5f0547a2978e7074ab12a80b6d9d09d881",
    "collapsed": false
   },
   "outputs": [],
   "source": [
    "# imports and setup\n",
    "import numpy as np\n",
    "import pandas as pd\n",
    "import xgboost as xgb\n",
    "from xgboost.sklearn import XGBRegressor\n",
    "from sklearn.model_selection import train_test_split\n",
    "from sklearn import model_selection, metrics\n",
    "from sklearn.model_selection import GridSearchCV\n",
    "from sklearn.feature_selection import SelectFromModel\n",
    "\n",
    "# visuals\n",
    "import matplotlib.pylab as plt\n",
    "from matplotlib.pylab import rcParams\n",
    "rcParams['figure.figsize'] = 12, 8\n",
    "%matplotlib inline"
   ]
  },
  {
   "cell_type": "code",
   "execution_count": 2,
   "metadata": {
    "_cell_guid": "d292acc9-c0cd-4e21-ae20-898c80faf56c",
    "_uuid": "26d3177f6e64a045ee734a9b957540cc408e4fd9",
    "collapsed": false
   },
   "outputs": [
    {
     "data": {
      "text/html": [
       "<div>\n",
       "<style scoped>\n",
       "    .dataframe tbody tr th:only-of-type {\n",
       "        vertical-align: middle;\n",
       "    }\n",
       "\n",
       "    .dataframe tbody tr th {\n",
       "        vertical-align: top;\n",
       "    }\n",
       "\n",
       "    .dataframe thead th {\n",
       "        text-align: right;\n",
       "    }\n",
       "</style>\n",
       "<table border=\"1\" class=\"dataframe\">\n",
       "  <thead>\n",
       "    <tr style=\"text-align: right;\">\n",
       "      <th></th>\n",
       "      <th>MSSubClass</th>\n",
       "      <th>LotArea</th>\n",
       "      <th>YearBuilt</th>\n",
       "      <th>YearRemodAdd</th>\n",
       "      <th>MasVnrArea</th>\n",
       "      <th>BsmtFinSF1</th>\n",
       "      <th>BsmtFinSF2</th>\n",
       "      <th>BsmtUnfSF</th>\n",
       "      <th>1stFlrSF</th>\n",
       "      <th>2ndFlrSF</th>\n",
       "      <th>...</th>\n",
       "      <th>MoSold_7</th>\n",
       "      <th>MoSold_8</th>\n",
       "      <th>MoSold_9</th>\n",
       "      <th>MoSold_10</th>\n",
       "      <th>MoSold_11</th>\n",
       "      <th>MoSold_12</th>\n",
       "      <th>YrSold_2007</th>\n",
       "      <th>YrSold_2008</th>\n",
       "      <th>YrSold_2009</th>\n",
       "      <th>YrSold_2010</th>\n",
       "    </tr>\n",
       "  </thead>\n",
       "  <tbody>\n",
       "    <tr>\n",
       "      <th>1076</th>\n",
       "      <td>20</td>\n",
       "      <td>8749</td>\n",
       "      <td>2002</td>\n",
       "      <td>2002</td>\n",
       "      <td>100.0</td>\n",
       "      <td>0</td>\n",
       "      <td>0</td>\n",
       "      <td>1459</td>\n",
       "      <td>1459</td>\n",
       "      <td>0</td>\n",
       "      <td>...</td>\n",
       "      <td>0</td>\n",
       "      <td>0</td>\n",
       "      <td>1</td>\n",
       "      <td>0</td>\n",
       "      <td>0</td>\n",
       "      <td>0</td>\n",
       "      <td>1</td>\n",
       "      <td>0</td>\n",
       "      <td>0</td>\n",
       "      <td>0</td>\n",
       "    </tr>\n",
       "    <tr>\n",
       "      <th>1369</th>\n",
       "      <td>50</td>\n",
       "      <td>10998</td>\n",
       "      <td>1941</td>\n",
       "      <td>1960</td>\n",
       "      <td>0.0</td>\n",
       "      <td>408</td>\n",
       "      <td>420</td>\n",
       "      <td>156</td>\n",
       "      <td>984</td>\n",
       "      <td>620</td>\n",
       "      <td>...</td>\n",
       "      <td>1</td>\n",
       "      <td>0</td>\n",
       "      <td>0</td>\n",
       "      <td>0</td>\n",
       "      <td>0</td>\n",
       "      <td>0</td>\n",
       "      <td>0</td>\n",
       "      <td>0</td>\n",
       "      <td>1</td>\n",
       "      <td>0</td>\n",
       "    </tr>\n",
       "    <tr>\n",
       "      <th>1217</th>\n",
       "      <td>20</td>\n",
       "      <td>10680</td>\n",
       "      <td>1951</td>\n",
       "      <td>1951</td>\n",
       "      <td>44.0</td>\n",
       "      <td>756</td>\n",
       "      <td>0</td>\n",
       "      <td>1380</td>\n",
       "      <td>2136</td>\n",
       "      <td>0</td>\n",
       "      <td>...</td>\n",
       "      <td>0</td>\n",
       "      <td>0</td>\n",
       "      <td>0</td>\n",
       "      <td>1</td>\n",
       "      <td>0</td>\n",
       "      <td>0</td>\n",
       "      <td>0</td>\n",
       "      <td>0</td>\n",
       "      <td>0</td>\n",
       "      <td>0</td>\n",
       "    </tr>\n",
       "    <tr>\n",
       "      <th>601</th>\n",
       "      <td>160</td>\n",
       "      <td>3182</td>\n",
       "      <td>2004</td>\n",
       "      <td>2005</td>\n",
       "      <td>0.0</td>\n",
       "      <td>0</td>\n",
       "      <td>0</td>\n",
       "      <td>600</td>\n",
       "      <td>600</td>\n",
       "      <td>600</td>\n",
       "      <td>...</td>\n",
       "      <td>0</td>\n",
       "      <td>0</td>\n",
       "      <td>0</td>\n",
       "      <td>0</td>\n",
       "      <td>0</td>\n",
       "      <td>0</td>\n",
       "      <td>0</td>\n",
       "      <td>0</td>\n",
       "      <td>0</td>\n",
       "      <td>1</td>\n",
       "    </tr>\n",
       "    <tr>\n",
       "      <th>108</th>\n",
       "      <td>50</td>\n",
       "      <td>8500</td>\n",
       "      <td>1919</td>\n",
       "      <td>2005</td>\n",
       "      <td>0.0</td>\n",
       "      <td>0</td>\n",
       "      <td>0</td>\n",
       "      <td>793</td>\n",
       "      <td>997</td>\n",
       "      <td>520</td>\n",
       "      <td>...</td>\n",
       "      <td>0</td>\n",
       "      <td>1</td>\n",
       "      <td>0</td>\n",
       "      <td>0</td>\n",
       "      <td>0</td>\n",
       "      <td>0</td>\n",
       "      <td>1</td>\n",
       "      <td>0</td>\n",
       "      <td>0</td>\n",
       "      <td>0</td>\n",
       "    </tr>\n",
       "  </tbody>\n",
       "</table>\n",
       "<p>5 rows × 274 columns</p>\n",
       "</div>"
      ],
      "text/plain": [
       "      MSSubClass  LotArea  YearBuilt  YearRemodAdd  MasVnrArea  BsmtFinSF1  \\\n",
       "1076          20     8749       2002          2002       100.0           0   \n",
       "1369          50    10998       1941          1960         0.0         408   \n",
       "1217          20    10680       1951          1951        44.0         756   \n",
       "601          160     3182       2004          2005         0.0           0   \n",
       "108           50     8500       1919          2005         0.0           0   \n",
       "\n",
       "      BsmtFinSF2  BsmtUnfSF  1stFlrSF  2ndFlrSF     ...       MoSold_7  \\\n",
       "1076           0       1459      1459         0     ...              0   \n",
       "1369         420        156       984       620     ...              1   \n",
       "1217           0       1380      2136         0     ...              0   \n",
       "601            0        600       600       600     ...              0   \n",
       "108            0        793       997       520     ...              0   \n",
       "\n",
       "      MoSold_8  MoSold_9  MoSold_10  MoSold_11  MoSold_12  YrSold_2007  \\\n",
       "1076         0         1          0          0          0            1   \n",
       "1369         0         0          0          0          0            0   \n",
       "1217         0         0          1          0          0            0   \n",
       "601          0         0          0          0          0            0   \n",
       "108          1         0          0          0          0            1   \n",
       "\n",
       "      YrSold_2008  YrSold_2009  YrSold_2010  \n",
       "1076            0            0            0  \n",
       "1369            0            1            0  \n",
       "1217            0            0            0  \n",
       "601             0            0            1  \n",
       "108             0            0            0  \n",
       "\n",
       "[5 rows x 274 columns]"
      ]
     },
     "execution_count": 2,
     "metadata": {},
     "output_type": "execute_result"
    }
   ],
   "source": [
    "# import preprocessed dataset\n",
    "data = pd.read_csv('../dataset.csv')\n",
    "\n",
    "# set target and predictors\n",
    "y = data['SalePrice']\n",
    "del data['SalePrice']\n",
    "X = data\n",
    "\n",
    "# split into training and testing datasets\n",
    "X_train, X_test, y_train, y_test = train_test_split(X, y, test_size = 0.1, random_state = 0)\n",
    "\n",
    "# target range for RMSE evaluation\n",
    "target_range = y_train.max() - y_train.min()\n",
    "X_train.head()"
   ]
  },
  {
   "cell_type": "code",
   "execution_count": 3,
   "metadata": {
    "_cell_guid": "93877a3e-77c5-4866-8a6a-9f80d466ce34",
    "_uuid": "4246a1e7304fc2e3acffdb2f2e2dda5cd4976f3e",
    "collapsed": false
   },
   "outputs": [
    {
     "name": "stdout",
     "output_type": "stream",
     "text": [
      "Training dataset size: 1305 \n",
      "Test dataset size: 146\n"
     ]
    }
   ],
   "source": [
    "print('Training dataset size:', X_train.shape[0],'\\nTest dataset size:', X_test.shape[0])"
   ]
  },
  {
   "cell_type": "markdown",
   "metadata": {
    "_cell_guid": "ed9b1af9-c17a-4d2d-a856-88ab2be99cc7",
    "_uuid": "2f0aaf8a1d22a8fdf5eaf76a9e487d47db162cbd",
    "collapsed": true
   },
   "source": [
    "## 1. Feature Selection"
   ]
  },
  {
   "cell_type": "markdown",
   "metadata": {
    "_cell_guid": "fb32113a-eb99-4363-9e63-3725ddcaf794",
    "_uuid": "3ba1a7dcd6f2a3797d3ae6dbe5a89df14b1e0af8"
   },
   "source": [
    "To make our lives easier we will create a function upfront that carries out all the below tasks for us at once:\n",
    "* Identifies the optimal number of trees to grow (`n_estimators`) with cross-validation\n",
    "* Fits the model to the dataset\n",
    "* Plots our features' importance\n",
    "\n",
    "For measuring our model's performance, we will use the root-mean-square error (RMSE) metrics."
   ]
  },
  {
   "cell_type": "code",
   "execution_count": 4,
   "metadata": {
    "_cell_guid": "f3e3a299-161e-4738-854e-529e51b94f2a",
    "_uuid": "7484fdcd7225711f8eb54875f97537cb13f01416",
    "collapsed": true
   },
   "outputs": [],
   "source": [
    "# function for creating XGBoost models and performing cross-validation\n",
    "# inspired by https://www.analyticsvidhya.com/blog/2016/03/complete-guide-parameter-tuning-xgboost-with-codes-python/\n",
    "def modelfit(regressor, X_train, y_train, kfolds = 5, early_stopping_rounds=50):\n",
    "    \n",
    "    # find best number of trees to grow with cross-validation\n",
    "    xgb_param = regressor.get_xgb_params()\n",
    "    xgtrain = xgb.DMatrix(X_train.values, label = y_train.values)\n",
    "    cvresult = xgb.cv(xgb_param, xgtrain, num_boost_round = regressor.get_params()['n_estimators'], nfold = kfolds,\n",
    "        metrics = 'rmse', early_stopping_rounds = early_stopping_rounds, as_pandas = True)\n",
    "    regressor.set_params(n_estimators = cvresult.shape[0])\n",
    "\n",
    "    # fit regressor on data with updated number of trees\n",
    "    regressor.fit(X_train, y_train, eval_metric='rmse')\n",
    "\n",
    "    # predict training set\n",
    "    X_train_predictions = regressor.predict(X_train)\n",
    "    \n",
    "    # print number of optimal estimators based on early stop\n",
    "    print('Number of optimal estimators: {}'.format(cvresult['test-rmse-mean'].count()))\n",
    "\n",
    "    #Print model report:\n",
    "    print ('\\nModel Report')\n",
    "    print ('Root Mean Squared Error: {:.2f}'.format(np.sqrt(metrics.mean_squared_error(y_train.values, X_train_predictions))))\n",
    "    print ('RMSE Range: +/- {:.2f}%'.format(np.sqrt(metrics.mean_squared_error(y_train.values, X_train_predictions))/target_range*100))\n",
    "\n",
    "    # plot feature importance\n",
    "    xgb.plot_importance(regressor, max_num_features = 15)\n",
    "    plt.ylabel('Feature Importance Score')\n",
    "    plt.show()"
   ]
  },
  {
   "cell_type": "markdown",
   "metadata": {
    "_cell_guid": "1704b63f-3813-4ebe-9508-52cdaf5eb914",
    "_uuid": "fef73d60cbb54c9a839057ebdc97e2be23fc2508"
   },
   "source": [
    "Now that we have this function at hand, we can create our first model and fit it on our dataset."
   ]
  },
  {
   "cell_type": "code",
   "execution_count": 5,
   "metadata": {
    "_cell_guid": "2ad82377-222f-4b51-932a-417527964122",
    "_uuid": "4bde28a5016541303f950f50a87bf6a925fbe8f5",
    "collapsed": false
   },
   "outputs": [
    {
     "name": "stdout",
     "output_type": "stream",
     "text": [
      "Number of optimal estimators: 203\n",
      "\n",
      "Model Report\n",
      "Root Mean Squared Error: 5275.91\n",
      "RMSE Range: +/- 0.73%\n"
     ]
    },
    {
     "data": {
      "image/png": "[encoded data removed]",
      "text/plain": [
       "<matplotlib.figure.Figure at 0x1084bada0>"
      ]
     },
     "metadata": {},
     "output_type": "display_data"
    }
   ],
   "source": [
    "# create model\n",
    "regressor1 = XGBRegressor(\n",
    "    learning_rate = 0.1,\n",
    "    n_estimators = 1000,\n",
    "    max_depth = 5,\n",
    "    min_child_weight = 1,\n",
    "    gamma = 0,\n",
    "    subsample = 0.8,\n",
    "    colsample_bytree = 0.8,\n",
    "    objective = 'reg:linear',\n",
    "    n_jobs = 1,\n",
    "    scale_pos_weight = 1,\n",
    "    seed = 27)\n",
    "\n",
    "# fit model to dataset\n",
    "modelfit(regressor1, X_train, y_train)"
   ]
  },
  {
   "cell_type": "markdown",
   "metadata": {
    "_cell_guid": "22925310-1897-4968-88fc-81c489e51845",
    "_uuid": "3e987de66e0b7e2a3e7a23c06a8e7877c7f09abb"
   },
   "source": [
    "Now, we'll need to keep in mind that our main goal is to build a user-friendly web app, which takes in house parameters from the user. These parameters are the features based on which our mdoel predicts the house's market price. While we want to make sure that our predictions are as accurate as possible, we also want to ensure that the app's input fields make sense for the user. Thus, when we choose the features, we also have to take this into consideration. This is the trade-off we take for user-friendliness at the expense of the accuracy of our model.\n",
    "\n",
    "If I look at the top 15 most important features, I am inclined to remove the following from the model:\n",
    "* BsmtUnfSF: Unfinished square feet of basement area\n",
    "* BsmtFinSF1 / BsmtFinSF2: Type 1 / Type 2 finished square feet of basement area\n",
    "* MSSubClass: The building class\n",
    "* MasVnrArea: Masonry veneer area in square feet\n",
    "\n",
    "These features are way too special to ask a user to provide input on them. We will thus remove these features from our dataset and retrain the model on the new dataset."
   ]
  },
  {
   "cell_type": "code",
   "execution_count": 6,
   "metadata": {
    "_cell_guid": "33250961-819f-45c3-a04f-d88b368e3bc1",
    "_uuid": "81975451d18d6d03a46faa3f271eb1e43ee18d63",
    "collapsed": false
   },
   "outputs": [],
   "source": [
    "# drop certain features\n",
    "X_train = X_train.drop(labels = ['BsmtUnfSF', 'BsmtFinSF1', 'BsmtFinSF2', 'MSSubClass', 'MasVnrArea'], axis = 1)\n",
    "X_test = X_test.drop(labels = ['BsmtUnfSF', 'BsmtFinSF1', 'BsmtFinSF2', 'MSSubClass', 'MasVnrArea'], axis = 1)"
   ]
  },
  {
   "cell_type": "code",
   "execution_count": 7,
   "metadata": {
    "_cell_guid": "20f0259a-595b-4619-b986-b7d2d0b49d4b",
    "_uuid": "996b04277a9f4b356a1bd06a7e3eb446c42cedfc",
    "collapsed": false
   },
   "outputs": [
    {
     "name": "stdout",
     "output_type": "stream",
     "text": [
      "Number of optimal estimators: 203\n",
      "\n",
      "Model Report\n",
      "Root Mean Squared Error: 5518.68\n",
      "RMSE Range: +/- 0.77%\n"
     ]
    },
    {
     "data": {
      "image/png": "[encoded data removed]",
      "text/plain": [
       "<matplotlib.figure.Figure at 0x1080ae2e8>"
      ]
     },
     "metadata": {},
     "output_type": "display_data"
    }
   ],
   "source": [
    "# fit model to updated dataset\n",
    "modelfit(regressor1, X_train, y_train)"
   ]
  },
  {
   "cell_type": "markdown",
   "metadata": {
    "_cell_guid": "45f0ae04-bb68-4d90-86eb-062033b7ca75",
    "_uuid": "a003b0b8c286e9d46f105aca2f67232f17c654ef"
   },
   "source": [
    "We can see that the order of the features have changed a bit (e.g., YearBuilt has jumped 2 places forward). We can also see that there is a leap in magnitude between ScreenPorch and 2ndFlrSF, the 9th and the 8th most important features, respectively. As we eventually only want to keep 4-6 features, I propose we keep the first eight only, and race them against each other to arrive at the winner set. Let's do that."
   ]
  },
  {
   "cell_type": "code",
   "execution_count": 8,
   "metadata": {
    "_cell_guid": "874a4902-32f6-4d79-b44f-8bc58d8ebd5d",
    "_uuid": "7cca69819c0178a406ccf901ee66d58a62b44ccd",
    "collapsed": true
   },
   "outputs": [],
   "source": [
    "# keep first 7 features only\n",
    "X_train = X_train[['LotArea', '1stFlrSF', 'YearBuilt', 'GrLivArea', 'YearRemodAdd', 'OpenPorchSF', 'WoodDeckSF', '2ndFlrSF']]\n",
    "X_test = X_test[['LotArea', '1stFlrSF', 'YearBuilt', 'GrLivArea', 'YearRemodAdd', 'OpenPorchSF', 'WoodDeckSF', '2ndFlrSF']]"
   ]
  },
  {
   "cell_type": "markdown",
   "metadata": {
    "_cell_guid": "4ebbf516-6cf2-4689-8d8c-f1d660ba73f4",
    "_uuid": "6cd7a6ad21c21aeadcfdb138db14a17fab60b335"
   },
   "source": [
    "Now, let's refit that model:"
   ]
  },
  {
   "cell_type": "code",
   "execution_count": 9,
   "metadata": {
    "_cell_guid": "4ac140d0-41d4-4f28-8cae-8f12b5a8dc2e",
    "_uuid": "b5a596bc2863c8f66c5d5bf7df4f818dc0345ea6",
    "collapsed": false
   },
   "outputs": [
    {
     "name": "stdout",
     "output_type": "stream",
     "text": [
      "Number of optimal estimators: 62\n",
      "\n",
      "Model Report\n",
      "Root Mean Squared Error: 18582.89\n",
      "RMSE Range: +/- 2.58%\n"
     ]
    },
    {
     "data": {
      "image/png": "[encoded data removed]",
      "text/plain": [
       "<matplotlib.figure.Figure at 0x1072e3978>"
      ]
     },
     "metadata": {},
     "output_type": "display_data"
    }
   ],
   "source": [
    "# fit model to updated dataset\n",
    "modelfit(regressor1, X_train, y_train)"
   ]
  },
  {
   "cell_type": "markdown",
   "metadata": {
    "_cell_guid": "be624c0a-6057-4ffe-a016-c430c50892d8",
    "_uuid": "eba407867363ab3d6e4d444ea09ffbd84e009d0c"
   },
   "source": [
    "Our error range has increased to ~2.60%, which is of course much larger than the previous ~0.7-0.8%, but is still not too bad! Next, we update the number of trees to grow (`n_estimators`) to equal the optimal number calculated during the cross-validation (62), and refit the model using each of the above 8 importance thesholds. This means that in each iteration, we will decrease the number of features by excluding the last feature, and see how well our model performs with fewer number of features. But let's see that for ourselves:"
   ]
  },
  {
   "cell_type": "code",
   "execution_count": 10,
   "metadata": {
    "_cell_guid": "efd867d9-df44-418d-beb8-c40513fe2f02",
    "_uuid": "790c39ac4641363c730885b79186577455a9c2e1",
    "collapsed": false
   },
   "outputs": [
    {
     "name": "stdout",
     "output_type": "stream",
     "text": [
      "Thresh=0.065, n=8, RMSE Range: +/- 3.64%\n",
      "Thresh=0.066, n=7, RMSE Range: +/- 3.64%\n",
      "Thresh=0.080, n=6, RMSE Range: +/- 3.83%\n",
      "Thresh=0.099, n=5, RMSE Range: +/- 3.71%\n",
      "Thresh=0.117, n=4, RMSE Range: +/- 3.86%\n",
      "Thresh=0.145, n=3, RMSE Range: +/- 6.42%\n",
      "Thresh=0.204, n=2, RMSE Range: +/- 6.92%\n",
      "Thresh=0.223, n=1, RMSE Range: +/- 8.80%\n"
     ]
    }
   ],
   "source": [
    "# Fit model using each importance as a threshold\n",
    "# inspired by https://machinelearningmastery.com/feature-importance-and-feature-selection-with-xgboost-in-python/\n",
    "thresholds = np.sort(regressor1.feature_importances_)\n",
    "for thresh in thresholds:\n",
    "    # select features using threshold\n",
    "    selection = SelectFromModel(regressor1, threshold=thresh, prefit=True)\n",
    "    select_X_train = selection.transform(X_train)\n",
    "    \n",
    "    # train model\n",
    "    selection_model = XGBRegressor(\n",
    "    learning_rate = 0.1,\n",
    "    n_estimators = 62,\n",
    "    max_depth = 5,\n",
    "    min_child_weight = 1,\n",
    "    gamma = 0,\n",
    "    subsample = 0.8,\n",
    "    colsample_bytree = 0.8,\n",
    "    objective = 'reg:linear',\n",
    "    n_jobs = 1,\n",
    "    scale_pos_weight = 1,\n",
    "    seed = 27)\n",
    "    selection_model.fit(select_X_train, y_train)\n",
    "    \n",
    "    # evaluate model\n",
    "    select_X_test = selection.transform(X_test)\n",
    "    y_pred = selection_model.predict(select_X_test)\n",
    "    predictions = [round(value) for value in y_pred]\n",
    "    print(\"Thresh=%.3f, n=%d, RMSE Range: +/- %.2f%%\" % (thresh, select_X_train.shape[1], np.sqrt(metrics.mean_squared_error(y_test, predictions))/target_range*100))"
   ]
  },
  {
   "cell_type": "markdown",
   "metadata": {
    "_cell_guid": "fd7a93d6-3c9c-42d3-b93e-bbd08a12da4e",
    "_uuid": "0791af25cdf63ee7ce7d335d5ca429718bf3e14a"
   },
   "source": [
    "As said we want the number of features to be somewhere between 4-6. If we look at the results for n = 4-6 above, we can see that n = 5 gives us the best results with an RMSE of 3.71%. This leaves us with the below five features for our model:\n",
    "* LotArea: Lot size in square feet\n",
    "* 1stFlrSF: First (i.e., ground) floor square feet\n",
    "* GrLivArea: Above grade (ground) living area square feet\n",
    "* YearBuilt: Original construction year\n",
    "* YearRemodAdd: Remodel year"
   ]
  },
  {
   "cell_type": "markdown",
   "metadata": {
    "_cell_guid": "97ca181e-b2a7-445b-834d-bc9cbb5ae343",
    "_uuid": "d6e2d76697a923846e256fdb19939f67e93eba4d",
    "collapsed": true
   },
   "source": [
    "Next up, we will use these five features to tune the parameters of our final model."
   ]
  },
  {
   "cell_type": "code",
   "execution_count": 11,
   "metadata": {
    "_cell_guid": "8afb4fbe-fdef-46fb-a1a5-8a461a07d3be",
    "_uuid": "24348fff035d7c480191d0ae5f8d9cfdf70bce55",
    "collapsed": true
   },
   "outputs": [],
   "source": [
    "# update dataset to contain only top 5 features\n",
    "X_train = X_train[['LotArea', '1stFlrSF', 'YearBuilt', 'GrLivArea', 'YearRemodAdd']]\n",
    "X_test = X_test[['LotArea', '1stFlrSF', 'YearBuilt', 'GrLivArea', 'YearRemodAdd']]"
   ]
  },
  {
   "cell_type": "code",
   "execution_count": 12,
   "metadata": {
    "_cell_guid": "4e61d653-b98e-4965-bec1-1f33ddfefdc1",
    "_uuid": "5868a426e5a0d2d91c5df1a31b04bd6e43ff1c9d",
    "collapsed": false
   },
   "outputs": [
    {
     "name": "stdout",
     "output_type": "stream",
     "text": [
      "Number of optimal estimators: 62\n",
      "\n",
      "Model Report\n",
      "Root Mean Squared Error: 19308.47\n",
      "RMSE Range: +/- 2.68%\n"
     ]
    },
    {
     "data": {
      "image/png": "[encoded data removed]",
      "text/plain": [
       "<matplotlib.figure.Figure at 0x108105f60>"
      ]
     },
     "metadata": {},
     "output_type": "display_data"
    }
   ],
   "source": [
    "# fit model to updated dataset\n",
    "modelfit(regressor1, X_train, y_train)"
   ]
  },
  {
   "cell_type": "markdown",
   "metadata": {
    "_cell_guid": "209d9db3-d6c4-45de-aea3-849b7b9ed0d4",
    "_uuid": "f22a43b404fb635f8e0cb30e1e1a45a34a50c674"
   },
   "source": [
    "## 2. Parameter Tuning"
   ]
  },
  {
   "cell_type": "markdown",
   "metadata": {
    "_cell_guid": "4c97bbbd-7b02-4934-8db9-d98d0d27b061",
    "_uuid": "89e2d02fb8dab04902813c4f06bb9b882e014ef0"
   },
   "source": [
    "### Tune max_depth and min_child_weight parameters\n",
    "First we will tune the max_depth and the min_child_weight parameters of our model, as these two have the greatest impact on its performance."
   ]
  },
  {
   "cell_type": "code",
   "execution_count": 13,
   "metadata": {
    "_cell_guid": "9389b048-3f21-4921-a764-67eae20b2be3",
    "_uuid": "8250f3bc205cd34787706e2471429aca63f9025c",
    "collapsed": false
   },
   "outputs": [
    {
     "name": "stdout",
     "output_type": "stream",
     "text": [
      "Best parameters: {'max_depth': 5, 'min_child_weight': 3} Best score: -1116257724.5203\n"
     ]
    }
   ],
   "source": [
    "# depth and child weight tuning with grid search - first sprint\n",
    "param_test1 = {\n",
    "    'max_depth': range(3,10,2),\n",
    "    'min_child_weight': range(1,6,2)\n",
    "}\n",
    "\n",
    "estimator = XGBRegressor(learning_rate = 0.1, n_estimators = 62, max_depth = 5, min_child_weight = 1, gamma = 0,\n",
    "                         subsample = 0.8, colsample_bytree = 0.8, objective = 'reg:linear', n_jobs = 1, scale_pos_weight = 1, seed = 27)\n",
    "\n",
    "gsearch1 = GridSearchCV(estimator = estimator, param_grid = param_test1, scoring = 'neg_mean_squared_error',\n",
    "                        n_jobs = 4, iid = False, cv = 5)\n",
    "gsearch1.fit(X_train, y_train)\n",
    "print('Best parameters:', gsearch1.best_params_, 'Best score: {:.4f}'.format(gsearch1.best_score_))"
   ]
  },
  {
   "cell_type": "markdown",
   "metadata": {
    "_cell_guid": "c73498c7-c5ba-40a4-8b2b-04a429868746",
    "_uuid": "54ae20c84c348e0cfca597640570e85f9d0b610f",
    "collapsed": true
   },
   "source": [
    "So as best parameters have come out **max_depth = 5** and **min_child_weight = 3**. Let's further tune these by running a grid search with neighbouring values."
   ]
  },
  {
   "cell_type": "code",
   "execution_count": 14,
   "metadata": {
    "_cell_guid": "84c3af5c-5821-4f76-a78c-da20856e45c7",
    "_uuid": "1d2433499942bff1ab24d81f4a67658fee2610ad",
    "collapsed": false
   },
   "outputs": [
    {
     "name": "stdout",
     "output_type": "stream",
     "text": [
      "Best parameters: {'max_depth': 5, 'min_child_weight': 3} Best score: -1116257724.5203\n"
     ]
    }
   ],
   "source": [
    "# depth and child weight tuning with grid search - first sprint\n",
    "param_test2 = {\n",
    "    'max_depth': [4,5,6],\n",
    "    'min_child_weight': [2,3,4]\n",
    "}\n",
    "\n",
    "estimator = XGBRegressor(learning_rate = 0.1, n_estimators = 62, max_depth = 5, min_child_weight = 1, gamma = 0,\n",
    "                         subsample = 0.8, colsample_bytree = 0.8, objective = 'reg:linear', n_jobs = 1, scale_pos_weight = 1, seed = 27)\n",
    "\n",
    "gsearch2 = GridSearchCV(estimator = estimator, param_grid = param_test2, scoring = 'neg_mean_squared_error', \n",
    "                        n_jobs = 4, iid = False, cv = 5)\n",
    "gsearch2.fit(X_train, y_train)\n",
    "print('Best parameters:', gsearch2.best_params_, 'Best score: {:.4f}'.format(gsearch2.best_score_))"
   ]
  },
  {
   "cell_type": "markdown",
   "metadata": {
    "_cell_guid": "848dc04d-00fb-4aff-8621-f1ad32f3d35e",
    "_uuid": "2c53a7d1af603b0caa7b497eb2e5d635e0b1fbd2"
   },
   "source": [
    "Best parameters from this tuning: **max_depth = 5** and **min_child_weight = 3**. Since we have tested all neighbouring values for both parameters, we can settle for these parameters for the time being. Next, we tune the `gamma` parameter of the model."
   ]
  },
  {
   "cell_type": "markdown",
   "metadata": {
    "_cell_guid": "a58625fb-cd61-4f26-8b29-9bd4ae588e74",
    "_uuid": "43585b5289714b8c6f3bb95000c198d26e8501dd"
   },
   "source": [
    "### Tune gamma"
   ]
  },
  {
   "cell_type": "code",
   "execution_count": 15,
   "metadata": {
    "_cell_guid": "ecd46ad3-14bf-4583-a44d-7a9421ccfebf",
    "_uuid": "12ffc1b30aef2159d4999a0c0de072b57ed1c924",
    "collapsed": false
   },
   "outputs": [
    {
     "name": "stdout",
     "output_type": "stream",
     "text": [
      "Best parameters: {'gamma': 0.0} Best score: -1116257724.5203\n"
     ]
    }
   ],
   "source": [
    "# gamma tuning with grid search \n",
    "param_test3 = {\n",
    " 'gamma':[i/10.0 for i in range(0,5)]\n",
    "}\n",
    "\n",
    "estimator = XGBRegressor(learning_rate = 0.1, n_estimators = 62, max_depth = 5, min_child_weight = 3, gamma = 0,\n",
    "                         subsample = 0.8, colsample_bytree = 0.8, objective = 'reg:linear', n_jobs = 1, scale_pos_weight = 1, seed = 27)\n",
    "\n",
    "gsearch3 = GridSearchCV(estimator = estimator, param_grid = param_test3, scoring = 'neg_mean_squared_error', \n",
    "                        n_jobs = 4, iid = False, cv = 5)\n",
    "gsearch3.fit(X_train, y_train)\n",
    "print('Best parameters:', gsearch3.best_params_, 'Best score: {:.4f}'.format(gsearch3.best_score_))"
   ]
  },
  {
   "cell_type": "markdown",
   "metadata": {
    "_cell_guid": "f54ba495-23a2-4b5d-9015-1655f9d9404f",
    "_uuid": "dc980fc6c997bf1291de10f1becc0d63b5ac04b1"
   },
   "source": [
    "Ok, so the **zero gamma** we have used thus far is actually the optimal value.\n",
    "\n",
    "Now, it's important to recallibrate the number of trees to build everytime we update some other parameters, as its optimal value its highly dependent on the other parameters. Let's just do that."
   ]
  },
  {
   "cell_type": "code",
   "execution_count": 16,
   "metadata": {
    "_cell_guid": "36dfc7cc-5636-4535-8ad7-f9f761689214",
    "_uuid": "557de8380665f1768c7452c2c12bf392d0708c39",
    "collapsed": true
   },
   "outputs": [],
   "source": [
    "regressor2 = XGBRegressor(\n",
    "    learning_rate = 0.1,\n",
    "    n_estimators = 1000,\n",
    "    max_depth = 5,\n",
    "    min_child_weight = 3,\n",
    "    gamma = 0,\n",
    "    subsample = 0.8,\n",
    "    colsample_bytree = 0.8,\n",
    "    objective = 'reg:linear',\n",
    "    n_jobs = 1,\n",
    "    scale_pos_weight = 1,\n",
    "    seed = 27)"
   ]
  },
  {
   "cell_type": "code",
   "execution_count": 17,
   "metadata": {
    "_cell_guid": "69341572-842b-4d4b-98b4-1efa556ece53",
    "_uuid": "8442d1d0f4e6ad1612dc92a7499bbfae343b8ff1",
    "collapsed": false
   },
   "outputs": [
    {
     "name": "stdout",
     "output_type": "stream",
     "text": [
      "Number of optimal estimators: 121\n",
      "\n",
      "Model Report\n",
      "Root Mean Squared Error: 16695.10\n",
      "RMSE Range: +/- 2.32%\n"
     ]
    },
    {
     "data": {
      "image/png": "[encoded data removed]",
      "text/plain": [
       "<matplotlib.figure.Figure at 0x108118550>"
      ]
     },
     "metadata": {},
     "output_type": "display_data"
    }
   ],
   "source": [
    "modelfit(regressor2, X_train, y_train)"
   ]
  },
  {
   "cell_type": "markdown",
   "metadata": {
    "_cell_guid": "bad5f70f-304a-4479-803e-d56c11ae21c6",
    "_uuid": "83a5493b485733a46d28dc8b2c1f0c8d54d7da48"
   },
   "source": [
    "Slight improvement in our model's performance, but it is there! And the optimal number of trees to grow has increased now to 121. Let's keep going. Next to tune: subsample and colsample_bytree."
   ]
  },
  {
   "cell_type": "markdown",
   "metadata": {
    "_cell_guid": "92779cab-a5d7-4b1d-b7ec-29cfef3c33c2",
    "_uuid": "a5db5a7d0b52bc95dac8301c6daeb8c457606aca"
   },
   "source": [
    "### Tune subsample and colsample_bytree"
   ]
  },
  {
   "cell_type": "code",
   "execution_count": 20,
   "metadata": {
    "_cell_guid": "12b6c593-f31b-4889-9078-3a554114f34c",
    "_uuid": "769e7b2b7e17920a643cdade29fa94ff67c1f8c0",
    "collapsed": false
   },
   "outputs": [
    {
     "name": "stdout",
     "output_type": "stream",
     "text": [
      "Best parameters: {'subsample': 0.9, 'colsample_bytree': 0.6} Best score: -1104079319.2111\n"
     ]
    }
   ],
   "source": [
    "# tuning subsample and colsample_bytree with grid search - first sprint\n",
    "param_test4 = {\n",
    " 'subsample':[i/10.0 for i in range(6,10)], # test for 0.6-0.9\n",
    " 'colsample_bytree':[i/10.0 for i in range(6,10)] # test for 0.6-0.9\n",
    "}\n",
    "\n",
    "estimator = XGBRegressor(learning_rate = 0.1, n_estimators = 121, max_depth = 5, min_child_weight = 3, gamma = 0,\n",
    "                         subsample = 0.8, colsample_bytree = 0.8, objective = 'reg:linear', n_jobs = 1, scale_pos_weight = 1, seed = 27)\n",
    "\n",
    "gsearch4 = GridSearchCV(estimator = estimator, param_grid = param_test4, scoring = 'neg_mean_squared_error', \n",
    "                        n_jobs = 4, iid = False, cv = 5)\n",
    "gsearch4.fit(X_train, y_train)\n",
    "print('Best parameters:', gsearch4.best_params_, 'Best score: {:.4f}'.format(gsearch4.best_score_))"
   ]
  },
  {
   "cell_type": "markdown",
   "metadata": {
    "_cell_guid": "ee9cebcd-1582-45ea-a012-51bb931f16f5",
    "_uuid": "81be588ba89c12ceb08a34445192ed3e0cb6940f"
   },
   "source": [
    "First best result: **subsample = 0.9**, **colsample_bytree = 0.6**. Let's also test values in closer proximity: 0.85-0.95 and 0.55-0.65, respectively."
   ]
  },
  {
   "cell_type": "code",
   "execution_count": 21,
   "metadata": {
    "_cell_guid": "d1fafd17-1c45-4b0c-ad1b-7075fe3ece10",
    "_uuid": "6ba55bceddc949eb53dd80a04fe6c7a22592591b",
    "collapsed": false
   },
   "outputs": [
    {
     "name": "stdout",
     "output_type": "stream",
     "text": [
      "Best parameters: {'subsample': 0.9, 'colsample_bytree': 0.6} Best score: -1104079319.2111\n"
     ]
    }
   ],
   "source": [
    "# tuning subsample and colsample_bytree with grid search - second sprint\n",
    "param_test5 = {\n",
    " 'subsample':[i/100.0 for i in range(85,100,5)], # test for 0.85-0.95\n",
    " 'colsample_bytree':[i/100.0 for i in range(55,70,5)] # test for 0.55-0.65\n",
    "}\n",
    "\n",
    "estimator = XGBRegressor(learning_rate = 0.1, n_estimators = 121, max_depth = 5, min_child_weight = 3, gamma = 0,\n",
    "                         subsample = 0.8, colsample_bytree = 0.8, objective = 'reg:linear', n_jobs = 1, scale_pos_weight = 1, seed = 27)\n",
    "\n",
    "gsearch5 = GridSearchCV(estimator = estimator, param_grid = param_test5, scoring = 'neg_mean_squared_error', \n",
    "                        n_jobs = 4, iid = False, cv = 5)\n",
    "gsearch5.fit(X_train, y_train)\n",
    "print('Best parameters:', gsearch5.best_params_, 'Best score: {:.4f}'.format(gsearch5.best_score_))"
   ]
  },
  {
   "cell_type": "markdown",
   "metadata": {
    "_cell_guid": "92ba9b59-2708-46a5-bfe8-fda7bb0c16b7",
    "_uuid": "20cb4f2028d9eaff323fe301bfb5a88fcca573f2"
   },
   "source": [
    "Final winners remain: **subsample = 0.9**, **colsample_bytree = 0.6**.\n",
    "\n",
    "Let's recallibrate our number of trees again."
   ]
  },
  {
   "cell_type": "code",
   "execution_count": 22,
   "metadata": {
    "_cell_guid": "331e6f1d-ba65-4aa2-af5c-953dade081d6",
    "_uuid": "39c3b346826fc4a9cb47ea987683527ea6a9cad0",
    "collapsed": true
   },
   "outputs": [],
   "source": [
    "regressor3 = XGBRegressor(\n",
    "    learning_rate = 0.1,\n",
    "    n_estimators = 1000,\n",
    "    max_depth = 5,\n",
    "    min_child_weight = 3,\n",
    "    gamma = 0,\n",
    "    subsample = 0.9,\n",
    "    colsample_bytree = 0.6,\n",
    "    objective = 'reg:linear',\n",
    "    n_jobs = 1,\n",
    "    scale_pos_weight = 1,\n",
    "    seed = 27)"
   ]
  },
  {
   "cell_type": "code",
   "execution_count": 23,
   "metadata": {
    "_cell_guid": "7009b091-7ef4-44d9-bf89-34f2824705d8",
    "_uuid": "783f7a7ccf1749a421b0215fb779bbb33742b756",
    "collapsed": false
   },
   "outputs": [
    {
     "name": "stdout",
     "output_type": "stream",
     "text": [
      "Number of optimal estimators: 120\n",
      "\n",
      "Model Report\n",
      "Root Mean Squared Error: 16468.99\n",
      "RMSE Range: +/- 2.29%\n"
     ]
    },
    {
     "data": {
      "image/png": "[encoded data removed]",
      "text/plain": [
       "<matplotlib.figure.Figure at 0x1a0e1adb70>"
      ]
     },
     "metadata": {},
     "output_type": "display_data"
    }
   ],
   "source": [
    "modelfit(regressor3, X_train, y_train)"
   ]
  },
  {
   "cell_type": "markdown",
   "metadata": {
    "_cell_guid": "a172a259-0a53-4074-b322-72d3fe2128b8",
    "_uuid": "4f14b69501c7cdd886ad594941251fdd9caa1362"
   },
   "source": [
    "Performance is creeping up slowly. We are getting there..."
   ]
  },
  {
   "cell_type": "markdown",
   "metadata": {
    "_cell_guid": "658542a8-3974-4f3c-ae4e-b7daedfc45cc",
    "_uuid": "ebba7f1f7e179be6ea441bb95feb1afd593cfbf8"
   },
   "source": [
    "### Tune regularization parameters"
   ]
  },
  {
   "cell_type": "markdown",
   "metadata": {
    "_cell_guid": "19d61568-8a26-415f-9c2d-39f0ce4eac90",
    "_uuid": "0975598e7f71614ff82965092f0102b666b2d230"
   },
   "source": [
    "Tuning regularization parameter (alpha and lambda) can help reducing overfitting. Let's see whether we can further improve the model through tuning these."
   ]
  },
  {
   "cell_type": "code",
   "execution_count": 24,
   "metadata": {
    "_cell_guid": "0972a72d-14dc-456f-beee-190782d610c9",
    "_uuid": "5a98847157dc02626bf163d305b3ec100debf8ed",
    "collapsed": false
   },
   "outputs": [
    {
     "name": "stdout",
     "output_type": "stream",
     "text": [
      "Best parameters: {'reg_alpha': 0.1} Best score: -1103928690.0186\n"
     ]
    }
   ],
   "source": [
    "# tuning alpha with grid search - first sprint\n",
    "param_test6 = {\n",
    " 'reg_alpha':[0.00001, 0.01, 0.1, 1, 100]\n",
    "}\n",
    "\n",
    "estimator = XGBRegressor(learning_rate = 0.1, n_estimators = 120, max_depth = 5, min_child_weight = 3, gamma = 0,\n",
    "                         subsample = 0.9, colsample_bytree = 0.6, objective = 'reg:linear', n_jobs = 1, scale_pos_weight = 1, seed = 27)\n",
    "\n",
    "gsearch6 = GridSearchCV(estimator = estimator, param_grid = param_test6, scoring = 'neg_mean_squared_error', \n",
    "                        n_jobs = 4, iid = False, cv = 5)\n",
    "gsearch6.fit(X_train, y_train)\n",
    "print('Best parameters:', gsearch6.best_params_, 'Best score: {:.4f}'.format(gsearch6.best_score_))"
   ]
  },
  {
   "cell_type": "markdown",
   "metadata": {
    "_cell_guid": "278e9f26-c94d-4960-9f5a-3d00900ff331",
    "_uuid": "3781602fdb59081bcea74433eaf5af710a852124"
   },
   "source": [
    "So our best bet for alpha is 0.1 from the above values. Time for recallibrating our number of trees!"
   ]
  },
  {
   "cell_type": "code",
   "execution_count": 26,
   "metadata": {
    "_cell_guid": "fbd784f5-2928-4c86-a860-20fa36829fb4",
    "_uuid": "1111d01c1190a78c62a1e2f0865dae72a6f2fce2",
    "collapsed": true
   },
   "outputs": [],
   "source": [
    "regressor4 = XGBRegressor(\n",
    "    learning_rate = 0.1,\n",
    "    n_estimators = 1000,\n",
    "    max_depth = 5,\n",
    "    min_child_weight = 3,\n",
    "    gamma = 0,\n",
    "    subsample = 0.9,\n",
    "    colsample_bytree = 0.6,\n",
    "    objective = 'reg:linear',\n",
    "    reg_alpha = 0.1,\n",
    "    n_jobs = 1,\n",
    "    scale_pos_weight = 1,\n",
    "    seed = 27)"
   ]
  },
  {
   "cell_type": "code",
   "execution_count": 27,
   "metadata": {
    "_cell_guid": "e198185f-ae54-4b8f-8cd5-6d2588680938",
    "_uuid": "1256ea54eccef20544b026e646f7ccb360254738",
    "collapsed": false
   },
   "outputs": [
    {
     "name": "stdout",
     "output_type": "stream",
     "text": [
      "Number of optimal estimators: 120\n",
      "\n",
      "Model Report\n",
      "Root Mean Squared Error: 16468.99\n",
      "RMSE Range: +/- 2.29%\n"
     ]
    },
    {
     "data": {
      "image/png": "[encoded data removed]",
      "text/plain": [
       "<matplotlib.figure.Figure at 0x10853f2e8>"
      ]
     },
     "metadata": {},
     "output_type": "display_data"
    }
   ],
   "source": [
    "modelfit(regressor4, X_train, y_train)"
   ]
  },
  {
   "cell_type": "markdown",
   "metadata": {
    "_cell_guid": "7e0ccb72-2242-4a38-b6c1-09d1f115a8bd",
    "_uuid": "4b2b81bfc99efc4bb0e65ae5ed879bb142209cd8"
   },
   "source": [
    "The optimal number of trees remains 120. Now tune our other regularization parameter, lambda."
   ]
  },
  {
   "cell_type": "code",
   "execution_count": 28,
   "metadata": {
    "_cell_guid": "c0eb1d3d-d40d-4913-a074-6f0805673eec",
    "_uuid": "603d7c598b762b7cba2fb80e50f608051b9ba6f2",
    "collapsed": false
   },
   "outputs": [
    {
     "name": "stdout",
     "output_type": "stream",
     "text": [
      "Best parameters: {'reg_lambda': 1} Best score: -1103928690.0186\n"
     ]
    }
   ],
   "source": [
    "# tuning reg_lambda with grid search - first sprint\n",
    "param_test8 = {\n",
    " 'reg_lambda': [1, 3, 5]\n",
    "}\n",
    "\n",
    "estimator = XGBRegressor(learning_rate = 0.1, n_estimators = 120, max_depth = 5, min_child_weight = 3, gamma = 0,\n",
    "                         subsample = 0.9, colsample_bytree = 0.6, objective = 'reg:linear', reg_alpha = 0.1, n_jobs = 1, scale_pos_weight = 1, seed = 27)\n",
    "\n",
    "gsearch8 = GridSearchCV(estimator = estimator, param_grid = param_test8, scoring = 'neg_mean_squared_error', \n",
    "                        n_jobs = 4, iid = False, cv = 5)\n",
    "gsearch8.fit(X_train, y_train)\n",
    "print('Best parameters:', gsearch8.best_params_, 'Best score: {:.4f}'.format(gsearch8.best_score_))"
   ]
  },
  {
   "cell_type": "code",
   "execution_count": 29,
   "metadata": {
    "_cell_guid": "18c00a8d-2da5-4ee0-ade3-3404d88a1c2a",
    "_uuid": "e8f20173e7df7ddfd0b8122f21740fcfe6fdb596",
    "collapsed": false
   },
   "outputs": [
    {
     "name": "stdout",
     "output_type": "stream",
     "text": [
      "Best parameters: {'reg_lambda': 1} Best score: -1103928690.0186\n"
     ]
    }
   ],
   "source": [
    "# tuning reg_lambda with grid search - second sprint\n",
    "param_test9 = {\n",
    " 'reg_lambda': [0.5, 1, 1.5]\n",
    "}\n",
    "\n",
    "estimator = XGBRegressor(learning_rate = 0.1, n_estimators = 120, max_depth = 5, min_child_weight = 3, gamma = 0,\n",
    "                         subsample = 0.9, colsample_bytree = 0.6, objective = 'reg:linear', reg_alpha = 0.1, n_jobs = 1, scale_pos_weight = 1, seed = 27)\n",
    "\n",
    "gsearch9 = GridSearchCV(estimator = estimator, param_grid = param_test8, scoring = 'neg_mean_squared_error', \n",
    "                        n_jobs = 4, iid = False, cv = 5)\n",
    "gsearch9.fit(X_train, y_train)\n",
    "print('Best parameters:', gsearch9.best_params_, 'Best score: {:.4f}'.format(gsearch9.best_score_))"
   ]
  },
  {
   "cell_type": "markdown",
   "metadata": {
    "_cell_guid": "8781d0d4-5406-4e49-877a-32a1a8980a96",
    "_uuid": "9f40626c5407f481d941cf4f42706ab47576f9cf"
   },
   "source": [
    "One it is. Let's see whether the optimal number of trees changes on account of lambda."
   ]
  },
  {
   "cell_type": "code",
   "execution_count": 30,
   "metadata": {
    "_cell_guid": "9096ab39-0cfe-4f1c-932a-6c4a071770da",
    "_uuid": "7cfbd159a7cc36cd6f6c7615270da732991dff80",
    "collapsed": false
   },
   "outputs": [
    {
     "name": "stdout",
     "output_type": "stream",
     "text": [
      "Number of optimal estimators: 120\n",
      "\n",
      "Model Report\n",
      "Root Mean Squared Error: 16468.99\n",
      "RMSE Range: +/- 2.29%\n"
     ]
    },
    {
     "data": {
      "image/png": "[encoded data removed]",
      "text/plain": [
       "<matplotlib.figure.Figure at 0x10814e0f0>"
      ]
     },
     "metadata": {},
     "output_type": "display_data"
    }
   ],
   "source": [
    "regressor5 = XGBRegressor(\n",
    "    learning_rate = 0.1,\n",
    "    n_estimators = 1000,\n",
    "    max_depth = 5,\n",
    "    min_child_weight = 3,\n",
    "    gamma = 0,\n",
    "    subsample = 0.9,\n",
    "    colsample_bytree = 0.6,\n",
    "    objective = 'reg:linear',\n",
    "    reg_alpha = 0.1,\n",
    "    reg_lambda = 1,\n",
    "    n_jobs = 1,\n",
    "    scale_pos_weight = 1,\n",
    "    seed = 27)\n",
    "\n",
    "modelfit(regressor5, X_train, y_train)"
   ]
  },
  {
   "cell_type": "markdown",
   "metadata": {
    "_cell_guid": "42fa1d48-61ba-4be7-b117-a96f0f109b1f",
    "_uuid": "7d0124bec0cb8483e0439a57f79ce4d9f193e687"
   },
   "source": [
    "Nope, 120 it is."
   ]
  },
  {
   "cell_type": "markdown",
   "metadata": {
    "_cell_guid": "9d09bc9a-0999-4a12-865c-18cb16ef2254",
    "_uuid": "24444ae477117029f91b79d809d3dd88de04733d"
   },
   "source": [
    "### Decrease learning rate\n",
    "Lastly, we will decrease the learning rate and increase the number of estimators for its final tuning, and will see the results of our tireless parameter tuning in all its glory."
   ]
  },
  {
   "cell_type": "code",
   "execution_count": 31,
   "metadata": {
    "_cell_guid": "277a9d12-7b4b-404b-bc2a-eff64e95b774",
    "_uuid": "e9562c12ce9eab35841184de1adefdbe2a9eb976",
    "collapsed": false
   },
   "outputs": [
    {
     "name": "stdout",
     "output_type": "stream",
     "text": [
      "Number of optimal estimators: 1239\n",
      "\n",
      "Model Report\n",
      "Root Mean Squared Error: 16313.69\n",
      "RMSE Range: +/- 2.27%\n"
     ]
    },
    {
     "data": {
      "image/png": "[encoded data removed]",
      "text/plain": [
       "<matplotlib.figure.Figure at 0x10813e400>"
      ]
     },
     "metadata": {},
     "output_type": "display_data"
    }
   ],
   "source": [
    "regressor6 = XGBRegressor(\n",
    "    learning_rate = 0.01, # decreased from 0.1\n",
    "    n_estimators = 5000, # increased from 1000\n",
    "    max_depth = 5,\n",
    "    min_child_weight = 3,\n",
    "    gamma = 0,\n",
    "    subsample = 0.9,\n",
    "    colsample_bytree = 0.6,\n",
    "    objective = 'reg:linear',\n",
    "    reg_alpha = 0.1,\n",
    "    reg_lambda = 1,\n",
    "    n_jobs = 1,\n",
    "    scale_pos_weight = 1,\n",
    "    seed = 27)\n",
    "\n",
    "modelfit(regressor6, X_train, y_train)"
   ]
  },
  {
   "cell_type": "markdown",
   "metadata": {
    "_cell_guid": "6255cf47-13d0-4f04-94e3-cf395e22a24c",
    "_uuid": "c881ce5a9515db90f5d1d13accf40f0e0f798336"
   },
   "source": [
    "And we have arrived to our final model:"
   ]
  },
  {
   "cell_type": "code",
   "execution_count": 32,
   "metadata": {
    "_cell_guid": "f34f9380-483c-4207-a045-433660721fbf",
    "_uuid": "5fb6b85b5bdd8afdd495d19e09c7a39a43913db3",
    "collapsed": true
   },
   "outputs": [],
   "source": [
    "# finalize model\n",
    "final_regressor = XGBRegressor(\n",
    "    learning_rate = 0.01,\n",
    "    n_estimators = 1239,\n",
    "    max_depth = 5,\n",
    "    min_child_weight = 3,\n",
    "    gamma = 0,\n",
    "    subsample = 0.9,\n",
    "    colsample_bytree = 0.6,\n",
    "    objective = 'reg:linear',\n",
    "    reg_alpha = 0.1,\n",
    "    reg_lambda = 1,\n",
    "    n_jobs = 1,\n",
    "    scale_pos_weight = 1,\n",
    "    seed = 27)"
   ]
  },
  {
   "cell_type": "code",
   "execution_count": 33,
   "metadata": {
    "_cell_guid": "5a3c51a2-0e71-4c8b-8776-67f35ef48210",
    "_uuid": "fb58b482af67b274988a18744591bfca20abd10e",
    "collapsed": false
   },
   "outputs": [
    {
     "name": "stdout",
     "output_type": "stream",
     "text": [
      "Number of optimal estimators: 1239\n",
      "\n",
      "Model Report\n",
      "Root Mean Squared Error: 16313.69\n",
      "RMSE Range: +/- 2.27%\n"
     ]
    },
    {
     "data": {
      "image/png": "[encoded data removed]",
      "text/plain": [
       "<matplotlib.figure.Figure at 0x1072c5c18>"
      ]
     },
     "metadata": {},
     "output_type": "display_data"
    }
   ],
   "source": [
    "modelfit(final_regressor, X_train, y_train)"
   ]
  },
  {
   "cell_type": "markdown",
   "metadata": {
    "_cell_guid": "38d327dc-1814-4ede-b0ce-25943d7680d3",
    "_uuid": "1d57ec6809649e2d5d0abe7ffd9547b4e5074c1d"
   },
   "source": [
    "Let's see how well our final model does on the test set:"
   ]
  },
  {
   "cell_type": "code",
   "execution_count": 34,
   "metadata": {
    "_cell_guid": "9013dff3-1580-4e2b-911c-7c5752b32658",
    "_uuid": "887381e9391ebe7c3e8ea788acba41fab81932e7",
    "collapsed": false
   },
   "outputs": [
    {
     "name": "stdout",
     "output_type": "stream",
     "text": [
      "Model Report\n",
      "\n",
      "RMSE: 27716.66\n",
      "RMSE Range: +/- 3.85%\n",
      "\n",
      "Mean Absolute Error: 18418.98\n",
      "Mean Error Range: +/- 2.56%\n"
     ]
    }
   ],
   "source": [
    "# predicting test set target\n",
    "y_pred = final_regressor.predict(X_test)\n",
    "\n",
    "# print model report\n",
    "print ('Model Report\\n')\n",
    "print('RMSE: {:.2f}'.format(np.sqrt(metrics.mean_squared_error(y_test.values, y_pred))))\n",
    "print('RMSE Range: +/- {:.2f}%'.format(np.sqrt(metrics.mean_squared_error(y_test.values, y_pred))/target_range*100))\n",
    "print ('\\nMean Absolute Error: {:.2f}'.format(metrics.mean_absolute_error(y_test.values, y_pred)))\n",
    "print ('Mean Error Range: +/- {:.2f}%'.format(metrics.mean_absolute_error(y_test.values, y_pred)/target_range*100))"
   ]
  },
  {
   "cell_type": "markdown",
   "metadata": {
    "_cell_guid": "d02662de-33f4-460a-b7fa-c4c5d8f7255b",
    "_uuid": "edd0032f226e25e0d0e81a898eb0c6dfd8f3c1d8"
   },
   "source": [
    "This is a pretty good accuracy rate for predictions from five features only, I say. XGBoost rules indeed.\n",
    "\n",
    "Let's try how the model could be deployed on the backend of the web app. We will use a `dict` to store the \"user input\"."
   ]
  },
  {
   "cell_type": "code",
   "execution_count": 35,
   "metadata": {
    "_cell_guid": "a0063092-834e-4773-ba09-0aa79d969ffd",
    "_uuid": "41d4565830da8d0b339685b14692b68b9aade712",
    "collapsed": false
   },
   "outputs": [
    {
     "data": {
      "text/html": [
       "<div>\n",
       "<style scoped>\n",
       "    .dataframe tbody tr th:only-of-type {\n",
       "        vertical-align: middle;\n",
       "    }\n",
       "\n",
       "    .dataframe tbody tr th {\n",
       "        vertical-align: top;\n",
       "    }\n",
       "\n",
       "    .dataframe thead th {\n",
       "        text-align: right;\n",
       "    }\n",
       "</style>\n",
       "<table border=\"1\" class=\"dataframe\">\n",
       "  <thead>\n",
       "    <tr style=\"text-align: right;\">\n",
       "      <th></th>\n",
       "      <th>LotArea</th>\n",
       "      <th>1stFlrSF</th>\n",
       "      <th>YearBuilt</th>\n",
       "      <th>GrLivArea</th>\n",
       "      <th>YearRemodAdd</th>\n",
       "    </tr>\n",
       "  </thead>\n",
       "  <tbody>\n",
       "    <tr>\n",
       "      <th>0</th>\n",
       "      <td>9742</td>\n",
       "      <td>1795</td>\n",
       "      <td>2002</td>\n",
       "      <td>1795</td>\n",
       "      <td>2002</td>\n",
       "    </tr>\n",
       "  </tbody>\n",
       "</table>\n",
       "</div>"
      ],
      "text/plain": [
       "   LotArea  1stFlrSF  YearBuilt  GrLivArea  YearRemodAdd\n",
       "0     9742      1795       2002       1795          2002"
      ]
     },
     "execution_count": 35,
     "metadata": {},
     "output_type": "execute_result"
    }
   ],
   "source": [
    "# to ensure feature order\n",
    "from collections import OrderedDict\n",
    "\n",
    "# fictitious user input\n",
    "house = OrderedDict ([\n",
    "    ('LotArea', 9742),\n",
    "    ('1stFlrSF', 1795),\n",
    "    ('YearBuilt', 2002),\n",
    "    ('GrLivArea', 1795),\n",
    "    ('YearRemodAdd', 2002)\n",
    "])\n",
    "\n",
    "input = pd.DataFrame(house, columns=house.keys(), index=[0])\n",
    "input.head()"
   ]
  },
  {
   "cell_type": "code",
   "execution_count": 36,
   "metadata": {
    "_cell_guid": "5872f9de-4c82-4fb6-8df7-e1049ebcd71f",
    "_uuid": "0c0ea9447d684ac5f690d2893352905965fc0773",
    "collapsed": false
   },
   "outputs": [
    {
     "name": "stdout",
     "output_type": "stream",
     "text": [
      "Predicted sales price is: USD 227,619.75\n"
     ]
    }
   ],
   "source": [
    "import math\n",
    "pred_price = final_regressor.predict(input)\n",
    "print('Predicted sales price is: USD {:,.2f}'.format(pred_price[0]))"
   ]
  },
  {
   "cell_type": "markdown",
   "metadata": {
    "_uuid": "957644aa595ef101a8cfc1ff5c54dda10759ef98"
   },
   "source": [
    "Seems to be working! Great, we have developed the model that will be the backbone of our web app. The rest of the development process will be some backend-engineering with Python and the Flask API and some front-end wizardry with HTML5, CSS, and Bootstrap. But alas, there will be no Jupyter Notebook documenting these.\n",
    "\n",
    "Thanks for accompanying me in the development process thus far, and have fun playing around with the Predicting House Prices!"
   ]
  },
  {
   "cell_type": "code",
   "execution_count": 37,
   "metadata": {
    "_uuid": "b8dba4168da9718eaadab4a6e10180c5508a5baa",
    "collapsed": false
   },
   "outputs": [
    {
     "data": {
      "text/plain": [
       "['model.dat']"
      ]
     },
     "execution_count": 37,
     "metadata": {},
     "output_type": "execute_result"
    }
   ],
   "source": [
    "# saving model\n",
    "from sklearn.externals import joblib\n",
    "\n",
    "joblib.dump(final_regressor, \"model.dat\")"
   ]
  }
 ],
 "metadata": {
  "anaconda-cloud": {},
  "kernelspec": {
   "display_name": "Python [conda root]",
   "language": "python",
   "name": "conda-root-py"
  },
  "language_info": {
   "codemirror_mode": {
    "name": "ipython",
    "version": 3
   },
   "file_extension": ".py",
   "mimetype": "text/x-python",
   "name": "python",
   "nbconvert_exporter": "python",
   "pygments_lexer": "ipython3",
   "version": "3.5.4"
  }
 },
 "nbformat": 4,
 "nbformat_minor": 1
}
